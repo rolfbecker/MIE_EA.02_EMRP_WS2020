{
 "cells": [
  {
   "cell_type": "markdown",
   "metadata": {},
   "source": [
    "# Siumulate a Sensor and Publish the Data at a MQTT Broker\n",
    "\n",
    "* Simulate sensor measurement data and publish it to an MQTT broker.\n",
    "\n",
    "## MQTT broker\n",
    "\n",
    "There are several possibilities to use an MQTT broker:\n",
    "\n",
    "1. Use eclipse publically accessible broker\n",
    "1. Install mosquitto MQTT broker locally, i.e. on your computer\n",
    "1. Use another dedicated MQTT broker, e.g. hsrw.space:1883\n"
   ]
  },
  {
   "cell_type": "markdown",
   "metadata": {},
   "source": [
    "## Python MQTT Client Package\n",
    "\n",
    "In case you have to install it first in Anadonda open an Anaconda prompt and execute\n",
    "\n",
    "```\n",
    "conda install -c conda-forge paho-mqtt\n",
    "```\n"
   ]
  },
  {
   "cell_type": "code",
   "execution_count": 2,
   "metadata": {},
   "outputs": [],
   "source": [
    "import paho.mqtt.client as mqtt\n",
    "from datetime import datetime"
   ]
  },
  {
   "cell_type": "markdown",
   "metadata": {},
   "source": [
    "### MQTT Broker Connection Parameters"
   ]
  },
  {
   "cell_type": "code",
   "execution_count": 4,
   "metadata": {},
   "outputs": [
    {
     "name": "stdout",
     "output_type": "stream",
     "text": [
      "Topic:  /emrp2020/john_doe/sensor_sim_db\n"
     ]
    }
   ],
   "source": [
    "\n",
    "broker = \"hsrw.space\"\n",
    "port=1883\n",
    "\n",
    "username = \"user\"\n",
    "password = \"mqtt\"\n",
    "\n",
    "myname = \"john_doe\"\n",
    "sensor_id = 22\n",
    "\n",
    "topic = \"/emrp2020/\"+myname+\"/sensor_sim_db\"\n",
    "print(\"Topic: \", topic)"
   ]
  },
  {
   "cell_type": "markdown",
   "metadata": {},
   "source": [
    "## The code to return a single sine wave"
   ]
  },
  {
   "cell_type": "code",
   "execution_count": 6,
   "metadata": {},
   "outputs": [],
   "source": [
    "#import math\n",
    "def mysin(t=0,A0=1,f=1,k=0,phi=0):\n",
    "    return A0*math.sin(2*math.pi*f*t)+k"
   ]
  },
  {
   "cell_type": "markdown",
   "metadata": {},
   "source": [
    "### MQTT Publisher Code"
   ]
  },
  {
   "cell_type": "code",
   "execution_count": 9,
   "metadata": {},
   "outputs": [
    {
     "name": "stdout",
     "output_type": "stream",
     "text": [
      "msg:  {\"sensor_id\": 22, \"ts\": \"2020-12-04T14:21:56.550990CET\", \"val\": 0.0}\n",
      "data published\n",
      "ret:  (0, 1)\n",
      "msg:  {\"sensor_id\": 22, \"ts\": \"2020-12-04T14:21:57.552326CET\", \"val\": 0.3090169943749474}\n",
      "data published\n",
      "ret:  (0, 2)\n",
      "msg:  {\"sensor_id\": 22, \"ts\": \"2020-12-04T14:21:58.555920CET\", \"val\": 0.5877852522924731}\n",
      "data published\n",
      "ret:  (0, 3)\n",
      "msg:  {\"sensor_id\": 22, \"ts\": \"2020-12-04T14:21:59.558340CET\", \"val\": 0.8090169943749475}\n",
      "data published\n",
      "ret:  (0, 4)\n",
      "msg:  {\"sensor_id\": 22, \"ts\": \"2020-12-04T14:22:00.563068CET\", \"val\": 0.9510565162951535}\n",
      "data published\n",
      "ret:  (0, 5)\n",
      "ret:  0\n"
     ]
    }
   ],
   "source": [
    "def on_publish(client,userdata,result):             #create function for callback\n",
    "    print(\"data published\")\n",
    "    pass\n",
    "\n",
    "#client1= mqtt.Client(client_id = \"Prof. B.'s Publisher\")           #create client object\n",
    "client1= mqtt.Client()           #create client object\n",
    "client1.on_publish = on_publish                          #assign function to callback\n",
    "\n",
    "client1.username_pw_set(username = username, password = password)\n",
    "client1.connect(broker,port) #establish connection\n",
    "\n",
    "from time import sleep\n",
    "import math\n",
    "import json\n",
    "\n",
    "t = 0 # sec\n",
    "\n",
    "dt = 1 # sample period (delay) in secs\n",
    "\n",
    "A1 = 1\n",
    "f1 = 1/20. # Hz\n",
    "\n",
    "\n",
    "# while(True):\n",
    "for i in range(5):\n",
    "    \n",
    "    val = mysin(t,A1,f1)\n",
    "    \n",
    "    ts = datetime.now().isoformat()+\"CET\"\n",
    "    #    ms = int(datetime.now().timestamp()*1000) # milliseconds!\n",
    "    \n",
    "    data = {\"sensor_id\": 22, \"ts\" : ts, \"val\" : val}\n",
    "    \n",
    "    msg = json.dumps(data)\n",
    "    print(\"msg: \", msg)\n",
    "    ret = client1.publish(topic,msg) \n",
    "    print(\"ret: \", ret)\n",
    "    \n",
    "    t += dt\n",
    "    sleep(dt) # sleep 1 sec\n",
    "    \n",
    "ret = client1.disconnect()\n",
    "print(\"ret: \", ret)"
   ]
  },
  {
   "cell_type": "code",
   "execution_count": 16,
   "metadata": {},
   "outputs": [],
   "source": [
    " ts = datetime.now()"
   ]
  },
  {
   "cell_type": "code",
   "execution_count": 48,
   "metadata": {},
   "outputs": [
    {
     "data": {
      "text/plain": [
       "1605634739.111155"
      ]
     },
     "execution_count": 48,
     "metadata": {},
     "output_type": "execute_result"
    }
   ],
   "source": [
    "ts.timestamp()"
   ]
  },
  {
   "cell_type": "code",
   "execution_count": 29,
   "metadata": {},
   "outputs": [
    {
     "data": {
      "text/plain": [
       "'2020-11-24T00:25:06.513832CEST'"
      ]
     },
     "execution_count": 29,
     "metadata": {},
     "output_type": "execute_result"
    }
   ],
   "source": [
    "ts.isoformat()+\"CEST\""
   ]
  },
  {
   "cell_type": "code",
   "execution_count": 25,
   "metadata": {},
   "outputs": [
    {
     "name": "stdout",
     "output_type": "stream",
     "text": [
      "Help on built-in function isoformat:\n",
      "\n",
      "isoformat(...) method of datetime.datetime instance\n",
      "    [sep] -> string in ISO 8601 format, YYYY-MM-DDT[HH[:MM[:SS[.mmm[uuu]]]]][+HH:MM].\n",
      "    sep is used to separate the year from the time, and defaults to 'T'.\n",
      "    timespec specifies what components of the time to include (allowed values are 'auto', 'hours', 'minutes', 'seconds', 'milliseconds', and 'microseconds').\n",
      "\n"
     ]
    }
   ],
   "source": [
    "help(ts.isoformat)"
   ]
  },
  {
   "cell_type": "code",
   "execution_count": null,
   "metadata": {},
   "outputs": [],
   "source": []
  }
 ],
 "metadata": {
  "kernelspec": {
   "display_name": "Python 3",
   "language": "python",
   "name": "python3"
  },
  "language_info": {
   "codemirror_mode": {
    "name": "ipython",
    "version": 3
   },
   "file_extension": ".py",
   "mimetype": "text/x-python",
   "name": "python",
   "nbconvert_exporter": "python",
   "pygments_lexer": "ipython3",
   "version": "3.8.5"
  }
 },
 "nbformat": 4,
 "nbformat_minor": 4
}
