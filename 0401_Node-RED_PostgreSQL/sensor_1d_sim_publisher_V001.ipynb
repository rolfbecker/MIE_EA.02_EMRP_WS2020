{
 "cells": [
  {
   "cell_type": "markdown",
   "metadata": {},
   "source": [
    "# Simulate Sensor Measurement Data and Publish it to an MQTT Broker.\n",
    "\n",
    "For testing pruposes of IoT systems and MQTT data transmission it is often convenient to simulate sensor data.\n",
    "\n",
    "The \"sensor\" in this case is just a sinosoidal function. Parameters are frequency (in Hz), phase, amplitude and amplidue offset. The variable is time (in secs).  \n",
    "\n",
    "The sensor has an ID and whenever a sensor measurement is taken the value is transmitted together with sensor_id and timestamp. The timestamp is the wallclock time (system time) of the computer the Python code is executed on.\n",
    "\n",
    "The message payload is a JSON string (Python dictionary string). It looks like this:\n",
    "\n",
    "```\n",
    "{\"sensor_id\": 22, \"ts\": \"2020-12-04T14:21:56.550990CET\", \"val\": 0.0}\n",
    "```\n"
   ]
  },
  {
   "cell_type": "markdown",
   "metadata": {},
   "source": [
    "## The Timestamp \n",
    "\n",
    "The timestamp represents the local time of the measurement. It is transmitted as an ISO time string."
   ]
  },
  {
   "cell_type": "code",
   "execution_count": 1,
   "metadata": {},
   "outputs": [],
   "source": [
    "from datetime import datetime"
   ]
  },
  {
   "cell_type": "code",
   "execution_count": 2,
   "metadata": {},
   "outputs": [],
   "source": [
    " ts = datetime.now()"
   ]
  },
  {
   "cell_type": "code",
   "execution_count": 3,
   "metadata": {},
   "outputs": [
    {
     "data": {
      "text/plain": [
       "1607095379.024291"
      ]
     },
     "execution_count": 3,
     "metadata": {},
     "output_type": "execute_result"
    }
   ],
   "source": [
    "ts.timestamp()"
   ]
  },
  {
   "cell_type": "markdown",
   "metadata": {},
   "source": [
    "### Time Zones\n",
    "\n",
    "#### Central European Time (UTC+1):\n",
    "https://www.timeanddate.com/time/zones/cet\n",
    "\n",
    "#### Central European Summer Time (UTC+2):\n",
    "https://www.timeanddate.com/time/zones/cest\n"
   ]
  },
  {
   "cell_type": "code",
   "execution_count": 4,
   "metadata": {},
   "outputs": [
    {
     "data": {
      "text/plain": [
       "'2020-12-04T16:22:59.024291CET'"
      ]
     },
     "execution_count": 4,
     "metadata": {},
     "output_type": "execute_result"
    }
   ],
   "source": [
    "ts.isoformat()+\"CET\""
   ]
  },
  {
   "cell_type": "markdown",
   "metadata": {},
   "source": [
    "\n",
    "\n",
    "## MQTT Broker\n",
    "\n",
    "There are several possibilities to use an MQTT broker:\n",
    "\n",
    "1. Use eclipse publically accessible broker\n",
    "1. Install mosquitto MQTT broker locally, i.e. on your computer\n",
    "1. Use another dedicated MQTT broker, e.g. hsrw.space:1883\n"
   ]
  },
  {
   "cell_type": "markdown",
   "metadata": {},
   "source": [
    "## Python MQTT Client Package\n",
    "\n",
    "In case you have to install it first in Anadonda open an Anaconda prompt and execute\n",
    "\n",
    "```\n",
    "conda install -c conda-forge paho-mqtt\n",
    "```\n"
   ]
  },
  {
   "cell_type": "code",
   "execution_count": 5,
   "metadata": {},
   "outputs": [],
   "source": [
    "import paho.mqtt.client as mqtt"
   ]
  },
  {
   "cell_type": "markdown",
   "metadata": {},
   "source": [
    "### MQTT Broker Connection Parameters"
   ]
  },
  {
   "cell_type": "code",
   "execution_count": 6,
   "metadata": {},
   "outputs": [
    {
     "name": "stdout",
     "output_type": "stream",
     "text": [
      "Topic:  /emrp2020/john_doe/sensor_sim_db\n"
     ]
    }
   ],
   "source": [
    "\n",
    "broker = \"hsrw.space\"\n",
    "port=1883\n",
    "\n",
    "username = \"user\"\n",
    "password = \"mqtt\"\n",
    "\n",
    "myname = \"john_doe\"\n",
    "#myname = \"mickey_mouse\"\n",
    "\n",
    "# this should be a unique ID.\n",
    "sensor_id = 22\n",
    "\n",
    "topic = \"/emrp2020/\"+myname+\"/sensor_sim_db\"\n",
    "print(\"Topic: \", topic)"
   ]
  },
  {
   "cell_type": "markdown",
   "metadata": {},
   "source": [
    "## The code to return a single sine wave"
   ]
  },
  {
   "cell_type": "code",
   "execution_count": 7,
   "metadata": {},
   "outputs": [],
   "source": [
    "#import math\n",
    "def mysin(t=0,A0=1,f=1,k=0,phi=0):\n",
    "    return A0*math.sin(2*math.pi*f*t)+k"
   ]
  },
  {
   "cell_type": "markdown",
   "metadata": {},
   "source": [
    "### MQTT Publisher Code"
   ]
  },
  {
   "cell_type": "code",
   "execution_count": 8,
   "metadata": {},
   "outputs": [
    {
     "name": "stdout",
     "output_type": "stream",
     "text": [
      "msg:  {\"sensor_id\": 22, \"ts\": \"2020-12-04T16:23:06.287420CET\", \"val\": 0.0}\n",
      "data published\n",
      "ret:  (0, 1)\n",
      "msg:  {\"sensor_id\": 22, \"ts\": \"2020-12-04T16:23:07.287879CET\", \"val\": 0.3090169943749474}\n",
      "data published\n",
      "ret:  (0, 2)\n",
      "msg:  {\"sensor_id\": 22, \"ts\": \"2020-12-04T16:23:08.290807CET\", \"val\": 0.5877852522924731}\n",
      "data published\n",
      "ret:  (0, 3)\n"
     ]
    },
    {
     "ename": "KeyboardInterrupt",
     "evalue": "",
     "output_type": "error",
     "traceback": [
      "\u001b[1;31m---------------------------------------------------------------------------\u001b[0m",
      "\u001b[1;31mKeyboardInterrupt\u001b[0m                         Traceback (most recent call last)",
      "\u001b[1;32m<ipython-input-8-f288621a87e9>\u001b[0m in \u001b[0;36m<module>\u001b[1;34m\u001b[0m\n\u001b[0;32m     38\u001b[0m \u001b[1;33m\u001b[0m\u001b[0m\n\u001b[0;32m     39\u001b[0m     \u001b[0mt\u001b[0m \u001b[1;33m+=\u001b[0m \u001b[0mdt\u001b[0m\u001b[1;33m\u001b[0m\u001b[1;33m\u001b[0m\u001b[0m\n\u001b[1;32m---> 40\u001b[1;33m     \u001b[0msleep\u001b[0m\u001b[1;33m(\u001b[0m\u001b[0mdt\u001b[0m\u001b[1;33m)\u001b[0m \u001b[1;31m# sleep 1 sec\u001b[0m\u001b[1;33m\u001b[0m\u001b[1;33m\u001b[0m\u001b[0m\n\u001b[0m\u001b[0;32m     41\u001b[0m \u001b[1;33m\u001b[0m\u001b[0m\n\u001b[0;32m     42\u001b[0m \u001b[0mret\u001b[0m \u001b[1;33m=\u001b[0m \u001b[0mclient1\u001b[0m\u001b[1;33m.\u001b[0m\u001b[0mdisconnect\u001b[0m\u001b[1;33m(\u001b[0m\u001b[1;33m)\u001b[0m\u001b[1;33m\u001b[0m\u001b[1;33m\u001b[0m\u001b[0m\n",
      "\u001b[1;31mKeyboardInterrupt\u001b[0m: "
     ]
    }
   ],
   "source": [
    "def on_publish(client,userdata,result):             #create function for callback\n",
    "    print(\"data published\")\n",
    "    pass\n",
    "\n",
    "#client1= mqtt.Client(client_id = \"Prof. B.'s Publisher\")           #create client object\n",
    "client1= mqtt.Client()           #create client object\n",
    "client1.on_publish = on_publish                          #assign function to callback\n",
    "\n",
    "client1.username_pw_set(username = username, password = password)\n",
    "client1.connect(broker,port) #establish connection\n",
    "\n",
    "from time import sleep\n",
    "import math\n",
    "import json\n",
    "\n",
    "\n",
    "dt = 1 # sample period (delay) in secs\n",
    "\n",
    "A1 = 1\n",
    "f1 = 1/20. # Hz\n",
    "\n",
    "t = 0 # sec\n",
    "\n",
    "# while(True):\n",
    "for i in range(5):\n",
    "    \n",
    "    val = mysin(t,A1,f1)\n",
    "    \n",
    "    ts = datetime.now().isoformat()+\"CET\"\n",
    "    #    ms = int(datetime.now().timestamp()*1000) # milliseconds!\n",
    "    \n",
    "    data = {\"sensor_id\": 22, \"ts\" : ts, \"val\" : val}\n",
    "    \n",
    "    msg = json.dumps(data)\n",
    "    print(\"msg: \", msg)\n",
    "    ret = client1.publish(topic,msg) \n",
    "    print(\"ret: \", ret)\n",
    "    \n",
    "    t += dt\n",
    "    sleep(dt) # sleep 1 sec\n",
    "    \n",
    "ret = client1.disconnect()\n",
    "print(\"ret: \", ret)"
   ]
  },
  {
   "cell_type": "code",
   "execution_count": null,
   "metadata": {},
   "outputs": [],
   "source": []
  },
  {
   "cell_type": "code",
   "execution_count": null,
   "metadata": {},
   "outputs": [],
   "source": []
  }
 ],
 "metadata": {
  "kernelspec": {
   "display_name": "Python 3",
   "language": "python",
   "name": "python3"
  },
  "language_info": {
   "codemirror_mode": {
    "name": "ipython",
    "version": 3
   },
   "file_extension": ".py",
   "mimetype": "text/x-python",
   "name": "python",
   "nbconvert_exporter": "python",
   "pygments_lexer": "ipython3",
   "version": "3.8.5"
  }
 },
 "nbformat": 4,
 "nbformat_minor": 4
}
