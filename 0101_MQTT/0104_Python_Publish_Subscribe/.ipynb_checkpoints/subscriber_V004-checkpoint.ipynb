{
 "cells": [
  {
   "cell_type": "markdown",
   "metadata": {},
   "source": [
    "# MQTT Subscriber\n",
    "\n",
    "* Simulate sensor measurement data and publish it to an MQTT broker.\n",
    "\n",
    "## MQTT broker\n",
    "\n",
    "There are several possibilities to use an MQTT broker:\n",
    "\n",
    "1. Use eclipse publically accessible broker\n",
    "1. Install mosquitto MQTT broker locally, i.e. on your computer\n",
    "1. Use another dedicated MQTT broker, e.g. hsrw.space:1883\n",
    "\n"
   ]
  },
  {
   "cell_type": "code",
   "execution_count": 1,
   "metadata": {},
   "outputs": [],
   "source": [
    "import paho.mqtt.client as mqtt"
   ]
  },
  {
   "cell_type": "markdown",
   "metadata": {},
   "source": [
    "### MQTT Broker Connection Parameters"
   ]
  },
  {
   "cell_type": "code",
   "execution_count": 3,
   "metadata": {},
   "outputs": [
    {
     "name": "stdout",
     "output_type": "stream",
     "text": [
      "Topic:  /emrp2020/prof/sensor01\n"
     ]
    }
   ],
   "source": [
    "broker = \"hsrw.space\"\n",
    "port=1883\n",
    "\n",
    "username = \"user\"\n",
    "password = \"mqtt\"\n",
    "\n",
    "#broker = \"localhost\"\n",
    "#broker = \"10.180.12.28\"\n",
    "#port=1883\n",
    "\n",
    "#broker=\"m2m.eclipse.org\"\n",
    "#port=1883\n",
    "\n",
    "#username = <who is it?>\n",
    "#password = <this is secret>\n",
    "\n",
    "myname = \"prof\"\n",
    "#myname = \"azam\"\n",
    "\n",
    "topic = \"/emrp2020/\"+myname+\"/sensor01\"\n",
    "print(\"Topic: \", topic)"
   ]
  },
  {
   "cell_type": "markdown",
   "metadata": {},
   "source": [
    "### MQTT Subscriber Code"
   ]
  },
  {
   "cell_type": "code",
   "execution_count": null,
   "metadata": {},
   "outputs": [
    {
     "name": "stdout",
     "output_type": "stream",
     "text": [
      "Subscribed: 1 (0,)\n",
      "/emrp2020/prof/sensor01 0 b'Final message!!!'\n"
     ]
    }
   ],
   "source": [
    "import paho.mqtt.client as mqtt\n",
    "\n",
    "def on_connect(mqttc, obj, flags, rc):\n",
    "    #print(\"rc: \" + str(rc))\n",
    "    return\n",
    "\n",
    "def on_message(mqttc, obj, msg):\n",
    "    print(msg.topic + \" \" + str(msg.qos) + \" \" + str(msg.payload))\n",
    "\n",
    "def on_publish(mqttc, obj, mid):\n",
    "    print(\"mid: \" + str(mid))\n",
    "\n",
    "def on_subscribe(mqttc, obj, mid, granted_qos):\n",
    "    print(\"Subscribed: \" + str(mid) + \" \" + str(granted_qos))\n",
    "\n",
    "def on_log(mqttc, obj, level, string):\n",
    "    print(string)\n",
    "\n",
    "\n",
    "# If you want to use a specific client id, use\n",
    "# mqttc = mqtt.Client(\"client-id\")\n",
    "# but note that the client id must be unique on the broker. Leaving the client\n",
    "# id parameter empty will generate a random id for you.\n",
    "\n",
    "#mqttc = mqtt.Client(myname+\"'s Subscriber Client\")\n",
    "mqttc = mqtt.Client()\n",
    "mqttc.on_message = on_message\n",
    "mqttc.on_connect = on_connect\n",
    "mqttc.on_publish = on_publish\n",
    "mqttc.on_subscribe = on_subscribe\n",
    "# Uncomment to enable debug messages\n",
    "# mqttc.on_log = on_log\n",
    "mqttc.username_pw_set(username = username, password = password)\n",
    "mqttc.connect(broker, port, 60)\n",
    "\n",
    "#mqttc.subscribe(\"$SYS/#\", 0)\n",
    "mqttc.subscribe(topic, 0)\n",
    "\n",
    "mqttc.loop_forever()"
   ]
  },
  {
   "cell_type": "code",
   "execution_count": null,
   "metadata": {},
   "outputs": [],
   "source": []
  },
  {
   "cell_type": "code",
   "execution_count": null,
   "metadata": {},
   "outputs": [],
   "source": []
  }
 ],
 "metadata": {
  "kernelspec": {
   "display_name": "Python 3",
   "language": "python",
   "name": "python3"
  },
  "language_info": {
   "codemirror_mode": {
    "name": "ipython",
    "version": 3
   },
   "file_extension": ".py",
   "mimetype": "text/x-python",
   "name": "python",
   "nbconvert_exporter": "python",
   "pygments_lexer": "ipython3",
   "version": "3.6.7"
  }
 },
 "nbformat": 4,
 "nbformat_minor": 2
}
