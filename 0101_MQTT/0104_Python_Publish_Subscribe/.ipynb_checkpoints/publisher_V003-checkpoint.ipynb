{
 "cells": [
  {
   "cell_type": "markdown",
   "metadata": {},
   "source": [
    "# MQTT Publisher\n",
    "\n",
    "* Simulate sensor measurement data and publish it to an MQTT broker.\n",
    "\n",
    "## MQTT broker\n",
    "\n",
    "1. Use eclipse publically accessible broker\n",
    "1. Install mosquitto MQTT broker locally, i.e. on your computer\n",
    "1. Use another dedicated MQTT broker, e.g. hsrw.space:1883, mqtt.dev.iota.pw:443\n",
    "\n",
    "Andreas and Thu are running their own server with a proxy server. If a request on `mqtt.dev.iota.pw` is received the proxy forwards it to localhost:1883, where the MQTT server listens on.\n"
   ]
  },
  {
   "cell_type": "code",
   "execution_count": 1,
   "metadata": {},
   "outputs": [],
   "source": [
    "import paho.mqtt.client as mqtt"
   ]
  },
  {
   "cell_type": "markdown",
   "metadata": {},
   "source": [
    "### MQTT Broker Connection Parameters"
   ]
  },
  {
   "cell_type": "code",
   "execution_count": 1,
   "metadata": {},
   "outputs": [
    {
     "name": "stdout",
     "output_type": "stream",
     "text": [
      "Topic:  /amc2020/prof/simulated_sensor_data\n"
     ]
    }
   ],
   "source": [
    "\n",
    "broker = \"hsrw.space\"\n",
    "port=1883\n",
    "\n",
    "username = \"user\"\n",
    "password = \"mqtt\"\n",
    "\n",
    "#broker = \"localhost\"\n",
    "#broker = \"10.180.12.28\"\n",
    "#port=1883\n",
    "\n",
    "#broker=\"m2m.eclipse.org\"\n",
    "#port=1883\n",
    "\n",
    "#username = <who is it?>\n",
    "#password = <this is secret>\n",
    "\n",
    "myname = \"prof\"\n",
    "#myname = \"trump\"\n",
    "\n",
    "# Andreas' & Thu's MQTT broker\n",
    "#broker = \"mqtt.dev.iota.pw\"\n",
    "#port = 1882\n",
    "\n",
    "topic = \"/amc2020/\"+myname+\"/simulated_sensor_data\"\n",
    "print(\"Topic: \", topic)"
   ]
  },
  {
   "cell_type": "markdown",
   "metadata": {},
   "source": [
    "### MQTT Publisher Code"
   ]
  },
  {
   "cell_type": "code",
   "execution_count": 9,
   "metadata": {},
   "outputs": [
    {
     "name": "stdout",
     "output_type": "stream",
     "text": [
      "data published\n",
      "ret:  (0, 1)\n",
      "ret:  0\n"
     ]
    }
   ],
   "source": [
    "def on_publish(client,userdata,result):             #create function for callback\n",
    "    print(\"data published\")\n",
    "    pass\n",
    "\n",
    "#client1= mqtt.Client(client_id = \"Prof. B.'s Publisher\")           #create client object\n",
    "client1= mqtt.Client()           #create client object\n",
    "client1.on_publish = on_publish                          #assign function to callback\n",
    "\n",
    "\n",
    "msg = \"Hello World, dear Students!\"\n",
    "\n",
    "client1.username_pw_set(username = username, password = password)\n",
    "client1.connect(broker,port) #establish connection\n",
    "\n",
    "ret = client1.publish(topic,msg) \n",
    "print(\"ret: \", ret)\n",
    "\n",
    "ret = client1.disconnect()\n",
    "print(\"ret: \", ret)"
   ]
  },
  {
   "cell_type": "code",
   "execution_count": null,
   "metadata": {},
   "outputs": [],
   "source": []
  },
  {
   "cell_type": "code",
   "execution_count": null,
   "metadata": {},
   "outputs": [],
   "source": []
  }
 ],
 "metadata": {
  "kernelspec": {
   "display_name": "Python 3",
   "language": "python",
   "name": "python3"
  },
  "language_info": {
   "codemirror_mode": {
    "name": "ipython",
    "version": 3
   },
   "file_extension": ".py",
   "mimetype": "text/x-python",
   "name": "python",
   "nbconvert_exporter": "python",
   "pygments_lexer": "ipython3",
   "version": "3.6.7"
  }
 },
 "nbformat": 4,
 "nbformat_minor": 2
}
