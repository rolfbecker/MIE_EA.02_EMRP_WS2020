{
 "cells": [
  {
   "cell_type": "markdown",
   "metadata": {},
   "source": [
    "# MQTT Subscriber\n",
    "\n",
    "* Simulate sensor measurement data and publish it to an MQTT broker.\n",
    "\n",
    "## MQTT broker\n",
    "\n",
    "1. Use eclipse publically accessible broker: mqttc.connect(\"m2m.eclipse.org\", 1883, 60)\n",
    "1. Install mosquitto MQTT broker locally, i.e. on your computer\n",
    "1. Use another dedicated MQTT broker, e.g. hsrw.space:1883, mqtt.dev.iota.pw:443\n",
    "\n",
    "Andreas and Thu are running their own server with a proxy server. If a request on `mqtt.dev.iota.pw` is received the proxy forwards it to localhost:1883, where the MQTT server listens on.\n"
   ]
  },
  {
   "cell_type": "code",
   "execution_count": 2,
   "metadata": {},
   "outputs": [],
   "source": [
    "import paho.mqtt.client as mqtt"
   ]
  },
  {
   "cell_type": "markdown",
   "metadata": {},
   "source": [
    "### MQTT Broker Connection Parameters"
   ]
  },
  {
   "cell_type": "code",
   "execution_count": 1,
   "metadata": {},
   "outputs": [
    {
     "name": "stdout",
     "output_type": "stream",
     "text": [
      "Topic:  esp32/temperature\n"
     ]
    }
   ],
   "source": [
    "broker = \"hsrw.space\"\n",
    "port=1883\n",
    "\n",
    "username = \"user\"\n",
    "password = \"mqtt\"\n",
    "\n",
    "#broker = \"localhost\"\n",
    "#broker = \"10.180.12.28\"\n",
    "#port=1883\n",
    "\n",
    "#broker=\"m2m.eclipse.org\"\n",
    "#port=1883\n",
    "\n",
    "#username = <who is it?>\n",
    "#password = <this is secret>\n",
    "\n",
    "myname = \"gerd\"\n",
    "#myname = \"paul\"\n",
    "\n",
    "# Andreas' & Thu's MQTT broker\n",
    "#broker = \"mqtt.dev.iota.pw\"\n",
    "#port = 1882\n",
    "\n",
    "topic = \"/amc2020/\"+myname+\"/sensor01\"\n",
    "\n",
    "topic = \"/amc2020/prof/poti\"\n",
    "print(\"Topic: \", topic)"
   ]
  },
  {
   "cell_type": "markdown",
   "metadata": {},
   "source": [
    "### MQTT Subscriber Code"
   ]
  },
  {
   "cell_type": "code",
   "execution_count": 2,
   "metadata": {},
   "outputs": [
    {
     "name": "stdout",
     "output_type": "stream",
     "text": [
      "Subscribed: 1 (0,)\n",
      "esp32/temperature 0 b'999.00'\n",
      "esp32/temperature 0 b'999.00'\n",
      "esp32/temperature 0 b'999.00'\n",
      "esp32/temperature 0 b'999.00'\n",
      "esp32/temperature 0 b'999.00'\n",
      "esp32/temperature 0 b'999.00'\n",
      "esp32/temperature 0 b'999.00'\n",
      "esp32/temperature 0 b'999.00'\n",
      "esp32/temperature 0 b'999.00'\n",
      "esp32/temperature 0 b'999.00'\n",
      "esp32/temperature 0 b'999.00'\n",
      "esp32/temperature 0 b'999.00'\n",
      "esp32/temperature 0 b'999.00'\n",
      "esp32/temperature 0 b'999.00'\n",
      "esp32/temperature 0 b'999.00'\n",
      "esp32/temperature 0 b'999.00'\n",
      "esp32/temperature 0 b'999.00'\n",
      "esp32/temperature 0 b'999.00'\n",
      "esp32/temperature 0 b'999.00'\n",
      "esp32/temperature 0 b'999.00'\n",
      "esp32/temperature 0 b'999.00'\n",
      "esp32/temperature 0 b'999.00'\n",
      "esp32/temperature 0 b'999.00'\n",
      "esp32/temperature 0 b'999.00'\n",
      "esp32/temperature 0 b'999.00'\n",
      "esp32/temperature 0 b'999.00'\n",
      "esp32/temperature 0 b'999.00'\n",
      "esp32/temperature 0 b'999.00'\n",
      "esp32/temperature 0 b'999.00'\n",
      "esp32/temperature 0 b'999.00'\n",
      "esp32/temperature 0 b'999.00'\n",
      "esp32/temperature 0 b'999.00'\n",
      "esp32/temperature 0 b'999.00'\n",
      "esp32/temperature 0 b'999.00'\n",
      "esp32/temperature 0 b'999.00'\n",
      "esp32/temperature 0 b'999.00'\n",
      "esp32/temperature 0 b'999.00'\n",
      "esp32/temperature 0 b'999.00'\n",
      "esp32/temperature 0 b'999.00'\n",
      "esp32/temperature 0 b'999.00'\n",
      "esp32/temperature 0 b'999.00'\n",
      "esp32/temperature 0 b'999.00'\n",
      "esp32/temperature 0 b'999.00'\n",
      "esp32/temperature 0 b'999.00'\n",
      "esp32/temperature 0 b'999.00'\n",
      "esp32/temperature 0 b'999.00'\n",
      "esp32/temperature 0 b'999.00'\n",
      "esp32/temperature 0 b'999.00'\n",
      "esp32/temperature 0 b'999.00'\n",
      "esp32/temperature 0 b'999.00'\n",
      "esp32/temperature 0 b'999.00'\n",
      "esp32/temperature 0 b'999.00'\n",
      "esp32/temperature 0 b'999.00'\n",
      "esp32/temperature 0 b'999.00'\n",
      "esp32/temperature 0 b'999.00'\n",
      "esp32/temperature 0 b'999.00'\n",
      "esp32/temperature 0 b'999.00'\n",
      "esp32/temperature 0 b'999.00'\n",
      "esp32/temperature 0 b'999.00'\n",
      "esp32/temperature 0 b'999.00'\n",
      "esp32/temperature 0 b'999.00'\n",
      "esp32/temperature 0 b'999.00'\n",
      "esp32/temperature 0 b'999.00'\n",
      "esp32/temperature 0 b'999.00'\n",
      "esp32/temperature 0 b'999.00'\n",
      "esp32/temperature 0 b'999.00'\n",
      "esp32/temperature 0 b'999.00'\n",
      "esp32/temperature 0 b'999.00'\n",
      "esp32/temperature 0 b'999.00'\n",
      "esp32/temperature 0 b'999.00'\n",
      "esp32/temperature 0 b'999.00'\n",
      "esp32/temperature 0 b'999.00'\n",
      "esp32/temperature 0 b'999.00'\n",
      "esp32/temperature 0 b'999.00'\n",
      "esp32/temperature 0 b'999.00'\n",
      "esp32/temperature 0 b'999.00'\n",
      "esp32/temperature 0 b'999.00'\n",
      "esp32/temperature 0 b'999.00'\n",
      "esp32/temperature 0 b'999.00'\n",
      "esp32/temperature 0 b'999.00'\n",
      "esp32/temperature 0 b'999.00'\n",
      "esp32/temperature 0 b'999.00'\n",
      "esp32/temperature 0 b'999.00'\n",
      "esp32/temperature 0 b'999.00'\n",
      "esp32/temperature 0 b'999.00'\n",
      "esp32/temperature 0 b'999.00'\n",
      "esp32/temperature 0 b'999.00'\n"
     ]
    },
    {
     "ename": "KeyboardInterrupt",
     "evalue": "",
     "output_type": "error",
     "traceback": [
      "\u001b[1;31m---------------------------------------------------------------------------\u001b[0m",
      "\u001b[1;31mKeyboardInterrupt\u001b[0m                         Traceback (most recent call last)",
      "\u001b[1;32m<ipython-input-2-8a1f7f46daaa>\u001b[0m in \u001b[0;36m<module>\u001b[1;34m\u001b[0m\n\u001b[0;32m     37\u001b[0m \u001b[0mmqttc\u001b[0m\u001b[1;33m.\u001b[0m\u001b[0msubscribe\u001b[0m\u001b[1;33m(\u001b[0m\u001b[0mtopic\u001b[0m\u001b[1;33m,\u001b[0m \u001b[1;36m0\u001b[0m\u001b[1;33m)\u001b[0m\u001b[1;33m\u001b[0m\u001b[1;33m\u001b[0m\u001b[0m\n\u001b[0;32m     38\u001b[0m \u001b[1;33m\u001b[0m\u001b[0m\n\u001b[1;32m---> 39\u001b[1;33m \u001b[0mmqttc\u001b[0m\u001b[1;33m.\u001b[0m\u001b[0mloop_forever\u001b[0m\u001b[1;33m(\u001b[0m\u001b[1;33m)\u001b[0m\u001b[1;33m\u001b[0m\u001b[1;33m\u001b[0m\u001b[0m\n\u001b[0m",
      "\u001b[1;32m~\\AppData\\Local\\Continuum\\anaconda3\\lib\\site-packages\\paho\\mqtt\\client.py\u001b[0m in \u001b[0;36mloop_forever\u001b[1;34m(self, timeout, max_packets, retry_first_connection)\u001b[0m\n\u001b[0;32m   1780\u001b[0m             \u001b[0mrc\u001b[0m \u001b[1;33m=\u001b[0m \u001b[0mMQTT_ERR_SUCCESS\u001b[0m\u001b[1;33m\u001b[0m\u001b[1;33m\u001b[0m\u001b[0m\n\u001b[0;32m   1781\u001b[0m             \u001b[1;32mwhile\u001b[0m \u001b[0mrc\u001b[0m \u001b[1;33m==\u001b[0m \u001b[0mMQTT_ERR_SUCCESS\u001b[0m\u001b[1;33m:\u001b[0m\u001b[1;33m\u001b[0m\u001b[1;33m\u001b[0m\u001b[0m\n\u001b[1;32m-> 1782\u001b[1;33m                 \u001b[0mrc\u001b[0m \u001b[1;33m=\u001b[0m \u001b[0mself\u001b[0m\u001b[1;33m.\u001b[0m\u001b[0mloop\u001b[0m\u001b[1;33m(\u001b[0m\u001b[0mtimeout\u001b[0m\u001b[1;33m,\u001b[0m \u001b[0mmax_packets\u001b[0m\u001b[1;33m)\u001b[0m\u001b[1;33m\u001b[0m\u001b[1;33m\u001b[0m\u001b[0m\n\u001b[0m\u001b[0;32m   1783\u001b[0m                 \u001b[1;31m# We don't need to worry about locking here, because we've\u001b[0m\u001b[1;33m\u001b[0m\u001b[1;33m\u001b[0m\u001b[1;33m\u001b[0m\u001b[0m\n\u001b[0;32m   1784\u001b[0m                 \u001b[1;31m# either called loop_forever() when in single threaded mode, or\u001b[0m\u001b[1;33m\u001b[0m\u001b[1;33m\u001b[0m\u001b[1;33m\u001b[0m\u001b[0m\n",
      "\u001b[1;32m~\\AppData\\Local\\Continuum\\anaconda3\\lib\\site-packages\\paho\\mqtt\\client.py\u001b[0m in \u001b[0;36mloop\u001b[1;34m(self, timeout, max_packets)\u001b[0m\n\u001b[0;32m   1161\u001b[0m         \u001b[0mrlist\u001b[0m \u001b[1;33m=\u001b[0m \u001b[1;33m[\u001b[0m\u001b[0mself\u001b[0m\u001b[1;33m.\u001b[0m\u001b[0m_sock\u001b[0m\u001b[1;33m,\u001b[0m \u001b[0mself\u001b[0m\u001b[1;33m.\u001b[0m\u001b[0m_sockpairR\u001b[0m\u001b[1;33m]\u001b[0m\u001b[1;33m\u001b[0m\u001b[1;33m\u001b[0m\u001b[0m\n\u001b[0;32m   1162\u001b[0m         \u001b[1;32mtry\u001b[0m\u001b[1;33m:\u001b[0m\u001b[1;33m\u001b[0m\u001b[1;33m\u001b[0m\u001b[0m\n\u001b[1;32m-> 1163\u001b[1;33m             \u001b[0msocklist\u001b[0m \u001b[1;33m=\u001b[0m \u001b[0mselect\u001b[0m\u001b[1;33m.\u001b[0m\u001b[0mselect\u001b[0m\u001b[1;33m(\u001b[0m\u001b[0mrlist\u001b[0m\u001b[1;33m,\u001b[0m \u001b[0mwlist\u001b[0m\u001b[1;33m,\u001b[0m \u001b[1;33m[\u001b[0m\u001b[1;33m]\u001b[0m\u001b[1;33m,\u001b[0m \u001b[0mtimeout\u001b[0m\u001b[1;33m)\u001b[0m\u001b[1;33m\u001b[0m\u001b[1;33m\u001b[0m\u001b[0m\n\u001b[0m\u001b[0;32m   1164\u001b[0m         \u001b[1;32mexcept\u001b[0m \u001b[0mTypeError\u001b[0m\u001b[1;33m:\u001b[0m\u001b[1;33m\u001b[0m\u001b[1;33m\u001b[0m\u001b[0m\n\u001b[0;32m   1165\u001b[0m             \u001b[1;31m# Socket isn't correct type, in likelihood connection is lost\u001b[0m\u001b[1;33m\u001b[0m\u001b[1;33m\u001b[0m\u001b[1;33m\u001b[0m\u001b[0m\n",
      "\u001b[1;31mKeyboardInterrupt\u001b[0m: "
     ]
    }
   ],
   "source": [
    "import paho.mqtt.client as mqtt\n",
    "\n",
    "def on_connect(mqttc, obj, flags, rc):\n",
    "    #print(\"rc: \" + str(rc))\n",
    "    return\n",
    "\n",
    "def on_message(mqttc, obj, msg):\n",
    "    print(msg.topic + \" \" + str(msg.qos) + \" \" + str(msg.payload))\n",
    "\n",
    "def on_publish(mqttc, obj, mid):\n",
    "    print(\"mid: \" + str(mid))\n",
    "\n",
    "def on_subscribe(mqttc, obj, mid, granted_qos):\n",
    "    print(\"Subscribed: \" + str(mid) + \" \" + str(granted_qos))\n",
    "\n",
    "def on_log(mqttc, obj, level, string):\n",
    "    print(string)\n",
    "\n",
    "\n",
    "# If you want to use a specific client id, use\n",
    "# mqttc = mqtt.Client(\"client-id\")\n",
    "# but note that the client id must be unique on the broker. Leaving the client\n",
    "# id parameter empty will generate a random id for you.\n",
    "\n",
    "#mqttc = mqtt.Client(myname+\"'s Subscriber Client\")\n",
    "mqttc = mqtt.Client()\n",
    "mqttc.on_message = on_message\n",
    "mqttc.on_connect = on_connect\n",
    "mqttc.on_publish = on_publish\n",
    "mqttc.on_subscribe = on_subscribe\n",
    "# Uncomment to enable debug messages\n",
    "# mqttc.on_log = on_log\n",
    "mqttc.username_pw_set(username = username, password = password)\n",
    "mqttc.connect(broker, port, 60)\n",
    "\n",
    "#mqttc.subscribe(\"$SYS/#\", 0)\n",
    "mqttc.subscribe(topic, 0)\n",
    "\n",
    "mqttc.loop_forever()"
   ]
  },
  {
   "cell_type": "code",
   "execution_count": null,
   "metadata": {},
   "outputs": [],
   "source": []
  },
  {
   "cell_type": "code",
   "execution_count": null,
   "metadata": {},
   "outputs": [],
   "source": []
  }
 ],
 "metadata": {
  "kernelspec": {
   "display_name": "Python 3",
   "language": "python",
   "name": "python3"
  },
  "language_info": {
   "codemirror_mode": {
    "name": "ipython",
    "version": 3
   },
   "file_extension": ".py",
   "mimetype": "text/x-python",
   "name": "python",
   "nbconvert_exporter": "python",
   "pygments_lexer": "ipython3",
   "version": "3.6.7"
  }
 },
 "nbformat": 4,
 "nbformat_minor": 2
}
