{
 "cells": [
  {
   "cell_type": "markdown",
   "metadata": {},
   "source": [
    "# MQTT Publisher\n",
    "\n",
    "* Simulate sensor measurement data and publish it to an MQTT broker.\n",
    "\n",
    "## MQTT broker\n",
    "\n",
    "There are several possibilities to use an MQTT broker:\n",
    "\n",
    "1. Use eclipse publically accessible broker\n",
    "1. Install mosquitto MQTT broker locally, i.e. on your computer\n",
    "1. Use another dedicated MQTT broker, e.g. hsrw.space:1883\n"
   ]
  },
  {
   "cell_type": "code",
   "execution_count": 5,
   "metadata": {},
   "outputs": [],
   "source": [
    "import paho.mqtt.client as mqtt"
   ]
  },
  {
   "cell_type": "markdown",
   "metadata": {},
   "source": [
    "### MQTT Broker Connection Parameters"
   ]
  },
  {
   "cell_type": "code",
   "execution_count": 6,
   "metadata": {},
   "outputs": [
    {
     "name": "stdout",
     "output_type": "stream",
     "text": [
      "Topic:  /emrp2020/prof/sensor01\n"
     ]
    }
   ],
   "source": [
    "\n",
    "broker = \"hsrw.space\"\n",
    "port=1883\n",
    "\n",
    "username = \"user\"\n",
    "password = \"mqtt\"\n",
    "\n",
    "myname = \"prof\"\n",
    "#myname = \"azam\"\n",
    "\n",
    "topic = \"/emrp2020/\"+myname+\"/sensor01\"\n",
    "print(\"Topic: \", topic)"
   ]
  },
  {
   "cell_type": "markdown",
   "metadata": {},
   "source": [
    "### MQTT Publisher Code"
   ]
  },
  {
   "cell_type": "code",
   "execution_count": 7,
   "metadata": {},
   "outputs": [
    {
     "name": "stdout",
     "output_type": "stream",
     "text": [
      "data published\n",
      "ret:  (0, 1)\n",
      "ret:  0\n"
     ]
    }
   ],
   "source": [
    "def on_publish(client,userdata,result):             #create function for callback\n",
    "    print(\"data published\")\n",
    "    pass\n",
    "\n",
    "#client1= mqtt.Client(client_id = \"Prof. B.'s Publisher\")           #create client object\n",
    "client1= mqtt.Client()           #create client object\n",
    "client1.on_publish = on_publish                          #assign function to callback\n",
    "\n",
    "\n",
    "msg = \"Final message!!!\"\n",
    "\n",
    "client1.username_pw_set(username = username, password = password)\n",
    "client1.connect(broker,port) #establish connection\n",
    "\n",
    "ret = client1.publish(topic,msg) \n",
    "print(\"ret: \", ret)\n",
    "\n",
    "ret = client1.disconnect()\n",
    "print(\"ret: \", ret)"
   ]
  },
  {
   "cell_type": "code",
   "execution_count": null,
   "metadata": {},
   "outputs": [],
   "source": []
  },
  {
   "cell_type": "code",
   "execution_count": null,
   "metadata": {},
   "outputs": [],
   "source": []
  }
 ],
 "metadata": {
  "kernelspec": {
   "display_name": "Python 3",
   "language": "python",
   "name": "python3"
  },
  "language_info": {
   "codemirror_mode": {
    "name": "ipython",
    "version": 3
   },
   "file_extension": ".py",
   "mimetype": "text/x-python",
   "name": "python",
   "nbconvert_exporter": "python",
   "pygments_lexer": "ipython3",
   "version": "3.8.3"
  }
 },
 "nbformat": 4,
 "nbformat_minor": 4
}
