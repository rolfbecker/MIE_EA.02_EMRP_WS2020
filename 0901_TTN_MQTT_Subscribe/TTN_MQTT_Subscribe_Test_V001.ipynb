{
 "cells": [
  {
   "cell_type": "code",
   "execution_count": null,
   "metadata": {},
   "outputs": [
    {
     "name": "stdout",
     "output_type": "stream",
     "text": [
      "Connected with result code 0\n",
      "22.2\n",
      "22.1\n",
      "22\n",
      "22.1\n",
      "22.1\n",
      "22\n",
      "22.1\n",
      "22.1\n",
      "22.1\n",
      "22.1\n",
      "22\n",
      "22\n",
      "22\n",
      "Connected with result code 0\n",
      "22.2\n",
      "22.3\n",
      "22.2\n",
      "22.2\n",
      "22.2\n",
      "22.2\n",
      "22.2\n",
      "22.2\n",
      "22.3\n",
      "22.3\n",
      "22.6\n",
      "22.4\n",
      "22.4\n",
      "22.4\n"
     ]
    }
   ],
   "source": [
    "import paho.mqtt.client as mqtt\n",
    "import json\n",
    " \n",
    "\n",
    "myAppId = \"emrp_2020\"\n",
    "\n",
    "myAppKey = \"ttn-account-v2.impZLyxkdpye-PWbSfsJ5qS2qq34pvR8LirBweJzVTI\"\n",
    "\n",
    "# The callback for when the client receives a CONNACK response from the server.\n",
    "def on_connect(client, userdata, flags, rc):\n",
    "    print('Connected with result code '+str(rc))\n",
    "    client.subscribe('+/devices/+/up')\n",
    " \n",
    "# The callback for when a PUBLISH message is received from the server.\n",
    "def on_message(client, userdata, msg):\n",
    "    ergebnis = json.loads(msg.payload)\n",
    "    values = ergebnis['payload_fields']\n",
    "    print(values['temperature_1'])\n",
    " \n",
    "client = mqtt.Client()\n",
    "client.on_connect = on_connect\n",
    "client.on_message = on_message\n",
    "client.tls_set()\n",
    "client.username_pw_set(myAppId,password=myAppKey)\n",
    " \n",
    "client.connect('eu.thethings.network', 8883, 60)\n",
    " \n",
    "client.loop_forever()"
   ]
  },
  {
   "cell_type": "code",
   "execution_count": null,
   "metadata": {},
   "outputs": [],
   "source": []
  }
 ],
 "metadata": {
  "kernelspec": {
   "display_name": "Python 3",
   "language": "python",
   "name": "python3"
  },
  "language_info": {
   "codemirror_mode": {
    "name": "ipython",
    "version": 3
   },
   "file_extension": ".py",
   "mimetype": "text/x-python",
   "name": "python",
   "nbconvert_exporter": "python",
   "pygments_lexer": "ipython3",
   "version": "3.8.5"
  }
 },
 "nbformat": 4,
 "nbformat_minor": 4
}
